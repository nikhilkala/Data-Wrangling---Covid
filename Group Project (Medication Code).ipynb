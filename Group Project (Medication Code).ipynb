{
 "cells": [
  {
   "cell_type": "code",
   "execution_count": 8,
   "id": "4ef71d6a",
   "metadata": {},
   "outputs": [
    {
     "name": "stdout",
     "output_type": "stream",
     "text": [
      "5000\n"
     ]
    }
   ],
   "source": [
    "import pandas as pd\n",
    "import csv\n",
    "\n",
    "patient_ids_df = pd.read_csv(r\"C:\\Users\\jacel\\Downloads\\patients_sampled.csv\")\n",
    "with open(r\"C:\\Users\\jacel\\Downloads\\patients_sampled.csv\", 'r') as f:\n",
    "    reader = csv.reader(f)\n",
    "    next(reader)  # Skip the header row\n",
    "    patient_ids = [row[0] for row in reader]\n",
    "    \n",
    "print(len(patient_ids))"
   ]
  },
  {
   "cell_type": "code",
   "execution_count": 10,
   "id": "c8e9ad37",
   "metadata": {},
   "outputs": [
    {
     "name": "stdout",
     "output_type": "stream",
     "text": [
      "Done\n"
     ]
    }
   ],
   "source": [
    "with open(r\"C:\\Users\\jacel\\OneDrive\\Desktop\\Python Projects\\Group Unzipped\\medication.csv\", 'r') as f_in, open(r\"C:\\Users\\jacel\\OneDrive\\Desktop\\Python Projects\\matched_rows.csv\", 'w', newline='') as f_out:\n",
    "    reader = csv.reader(f_in)\n",
    "    writer = csv.writer(f_out)\n",
    "    \n",
    "    header = next(reader)\n",
    "    writer.writerow(header)\n",
    "    \n",
    "    for row in reader:\n",
    "        if row[0] in patient_ids:\n",
    "            writer.writerow(row)\n",
    "            \n",
    "print(\"Done\")\n"
   ]
  },
  {
   "cell_type": "code",
   "execution_count": 6,
   "id": "5713425d",
   "metadata": {},
   "outputs": [
    {
     "name": "stdout",
     "output_type": "stream",
     "text": [
      "                                    patient_id  \\\n",
      "1215  374cea9a0b9dc95d1dba3dfe0ca15da599bee44c   \n",
      "1217  374cea9a0b9dc95d1dba3dfe0ca15da599bee44c   \n",
      "1219  374cea9a0b9dc95d1dba3dfe0ca15da599bee44c   \n",
      "1221  374cea9a0b9dc95d1dba3dfe0ca15da599bee44c   \n",
      "1267  374cea9a0b9dc95d1dba3dfe0ca15da599bee44c   \n",
      "\n",
      "                                  encounter_id code_system     code  \\\n",
      "1215  962f7e1fc6c2739a9a7a9701117784e652255377      RxNorm     5224   \n",
      "1217  962f7e1fc6c2739a9a7a9701117784e652255377      RxNorm     5224   \n",
      "1219  15c974637cf481e270553f298a9247de156832f5      RxNorm     5224   \n",
      "1221  15c974637cf481e270553f298a9247de156832f5      RxNorm     5224   \n",
      "1267  4b1849adb8de4023009e18ea56738ecef4df66af      RxNorm  1546438   \n",
      "\n",
      "      start_date               route    brand     strength derived_by_TriNetX  \n",
      "1215    20160902  Injectable Product  Generic  5000 UNT/ML                  F  \n",
      "1217    20160902  Injectable Product  Generic  5000 UNT/ML                  F  \n",
      "1219    20190820  Injectable Product  Generic  5000 UNT/ML                  F  \n",
      "1221    20190820  Injectable Product  Generic  5000 UNT/ML                  F  \n",
      "1267    20190823  Injectable Product  Generic    0.2 MG/ML                  F  \n",
      "                                    patient_id  \\\n",
      "1215  374cea9a0b9dc95d1dba3dfe0ca15da599bee44c   \n",
      "1217  374cea9a0b9dc95d1dba3dfe0ca15da599bee44c   \n",
      "1219  374cea9a0b9dc95d1dba3dfe0ca15da599bee44c   \n",
      "1221  374cea9a0b9dc95d1dba3dfe0ca15da599bee44c   \n",
      "1267  374cea9a0b9dc95d1dba3dfe0ca15da599bee44c   \n",
      "\n",
      "                                  encounter_id code_system     code  \\\n",
      "1215  962f7e1fc6c2739a9a7a9701117784e652255377      RxNorm     5224   \n",
      "1217  962f7e1fc6c2739a9a7a9701117784e652255377      RxNorm     5224   \n",
      "1219  15c974637cf481e270553f298a9247de156832f5      RxNorm     5224   \n",
      "1221  15c974637cf481e270553f298a9247de156832f5      RxNorm     5224   \n",
      "1267  4b1849adb8de4023009e18ea56738ecef4df66af      RxNorm  1546438   \n",
      "\n",
      "      start_date               route    brand     strength derived_by_TriNetX  \n",
      "1215    20160902  Injectable Product  Generic  5000 UNT/ML                  F  \n",
      "1217    20160902  Injectable Product  Generic  5000 UNT/ML                  F  \n",
      "1219    20190820  Injectable Product  Generic  5000 UNT/ML                  F  \n",
      "1221    20190820  Injectable Product  Generic  5000 UNT/ML                  F  \n",
      "1267    20190823  Injectable Product  Generic    0.2 MG/ML                  F  \n"
     ]
    }
   ],
   "source": [
    "import pandas as pd\n",
    "\n",
    "df = pd.read_csv(r\"C:\\Users\\jacel\\OneDrive\\Desktop\\Python Projects\\matched_rows.csv\")\n",
    "\n",
    "#print(df)\n",
    "\n",
    "# Drop any rows with missing or \"unknown\" values\n",
    "df = df.dropna(how='any')\n",
    "df = df[df.apply(lambda x: all([val.lower() != 'unknown' if isinstance(val, str) else True for val in x]), axis=1)]\n",
    "print(df.head())\n"
   ]
  },
  {
   "cell_type": "code",
   "execution_count": 9,
   "id": "730aa36f",
   "metadata": {},
   "outputs": [],
   "source": [
    "# Write the filtered dataframe to a new file\n",
    "df.to_csv('medication_clean.csv', index=False)"
   ]
  }
 ],
 "metadata": {
  "kernelspec": {
   "display_name": "Python 3 (ipykernel)",
   "language": "python",
   "name": "python3"
  },
  "language_info": {
   "codemirror_mode": {
    "name": "ipython",
    "version": 3
   },
   "file_extension": ".py",
   "mimetype": "text/x-python",
   "name": "python",
   "nbconvert_exporter": "python",
   "pygments_lexer": "ipython3",
   "version": "3.10.6"
  }
 },
 "nbformat": 4,
 "nbformat_minor": 5
}
